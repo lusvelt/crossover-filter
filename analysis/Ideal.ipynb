{
 "cells": [
  {
   "cell_type": "code",
   "execution_count": 4,
   "metadata": {},
   "outputs": [],
   "source": [
    "import lvm_read\n",
    "import numpy as np\n",
    "import pandas as pd\n",
    "import matplotlib.pyplot as plt\n",
    "from sympy import *\n",
    "from sympy import I, Eq, Abs, N\n",
    "from numpy import pi\n",
    "from scipy.optimize import curve_fit"
   ]
  },
  {
   "cell_type": "code",
   "execution_count": 5,
   "metadata": {},
   "outputs": [],
   "source": [
    "R_W, R_T, R_L = symbols('R_W R_T R_L', real=True)\n",
    "L, C, w, V_0, t = symbols('L C \\omega V_0 t', real=True)\n",
    "V = V_0*exp(I*w*t)"
   ]
  },
  {
   "cell_type": "code",
   "execution_count": 6,
   "metadata": {},
   "outputs": [],
   "source": [
    "Z_T = R_T + 1/(C*w*I)\n",
    "Z_W = R_W + R_L + L*w*I\n",
    "Z_eq = 1/(1/Z_T+1/Z_W)\n",
    "Z_tot = Z_eq\n",
    "i = V / Z_tot\n",
    "V_eq = i * Z_eq\n",
    "i_T = V_eq / Z_T\n",
    "i_W = V_eq / Z_W\n",
    "V_T = simplify(i_T*R_T)\n",
    "V_W = simplify(i_W*R_W)"
   ]
  },
  {
   "cell_type": "code",
   "execution_count": 9,
   "metadata": {},
   "outputs": [
    {
     "data": {
      "text/latex": [
       "$\\displaystyle \\frac{C R_{T} V_{0} \\omega e^{i \\omega t}}{C R_{T} \\omega - i}$"
      ],
      "text/plain": [
       "C*R_T*V_0*\\omega*exp(I*\\omega*t)/(C*R_T*\\omega - I)"
      ]
     },
     "execution_count": 9,
     "metadata": {},
     "output_type": "execute_result"
    }
   ],
   "source": [
    "V_T"
   ]
  },
  {
   "cell_type": "code",
   "execution_count": 4,
   "metadata": {},
   "outputs": [
    {
     "name": "stdout",
     "output_type": "stream",
     "text": [
      "crossover_frequency = \n"
     ]
    },
    {
     "data": {
      "image/png": "[encoded data removed]",
      "text/latex": [
       "$\\displaystyle \\omega_{0} = \\frac{\\sqrt{2} \\sqrt{\\frac{R_{C}^{2}}{L^{2}} - \\frac{R_{L}^{2}}{L^{2}} + \\frac{\\sqrt{C^{2} R_{C}^{4} - 2 C^{2} R_{C}^{2} R_{L}^{2} + C^{2} R_{L}^{4} + 4 L^{2}}}{C L^{2}}}}{2}$"
      ],
      "text/plain": [
       "                    __________________________________________________________\n",
       "                   ╱                  ________________________________________\n",
       "                  ╱     2      2     ╱  2    4      2    2    2    2    4     \n",
       "                 ╱   R_C    R_L    ╲╱  C ⋅R_C  - 2⋅C ⋅R_C ⋅R_L  + C ⋅R_L  + 4⋅\n",
       "          √2⋅   ╱    ──── - ──── + ───────────────────────────────────────────\n",
       "               ╱       2      2                            2                  \n",
       "             ╲╱       L      L                          C⋅L                   \n",
       "\\omega₀ = ────────────────────────────────────────────────────────────────────\n",
       "                                             2                                \n",
       "\n",
       "____\n",
       "___ \n",
       " 2  \n",
       "L   \n",
       "─── \n",
       "    \n",
       "    \n",
       "────\n",
       "    "
      ]
     },
     "execution_count": 4,
     "metadata": {},
     "output_type": "execute_result"
    }
   ],
   "source": [
    "crossover_w = (solve(Eq(Abs(Z_T), Abs(Z_W)), w))[3] # 4 solutions: the last is positive and real\n",
    "crossover_freq = crossover_w / (2*pi)\n",
    "print('crossover_pulse = ')\n",
    "Eq(Symbol('\\omega_0'), crossover_w)"
   ]
  },
  {
   "cell_type": "code",
   "execution_count": 8,
   "metadata": {},
   "outputs": [
    {
     "name": "stdout",
     "output_type": "stream",
     "text": [
      "tweeter phase = \n"
     ]
    },
    {
     "data": {
      "text/latex": [
       "$\\displaystyle \\phi_{T} = \\operatorname{atan}{\\left(\\frac{1}{C R_{T} \\omega} \\right)}$"
      ],
      "text/plain": [
       "Eq(\\phi_T, atan(1/(C*R_T*\\omega)))"
      ]
     },
     "execution_count": 8,
     "metadata": {},
     "output_type": "execute_result"
    }
   ],
   "source": [
    "A_T = V_T / exp(I*w*t)\n",
    "pseudo_phi_T = im(A_T)/re(A_T)\n",
    "phi_T = atan(pseudo_phi_T)\n",
    "print('tweeter phase = ')\n",
    "Eq(Symbol('\\phi_T'), phi_T)\n"
   ]
  },
  {
   "cell_type": "code",
   "execution_count": 9,
   "metadata": {},
   "outputs": [
    {
     "name": "stdout",
     "output_type": "stream",
     "text": [
      "woofer phase = \n"
     ]
    },
    {
     "data": {
      "image/png": "[encoded data removed]",
      "text/latex": [
       "$\\displaystyle \\phi_{W} = - \\operatorname{atan}{\\left(\\frac{L \\omega}{R_{L}} \\right)}$"
      ],
      "text/plain": [
       "              ⎛L⋅\\omega⎞\n",
       "\\phi_W = -atan⎜────────⎟\n",
       "              ⎝  R_L   ⎠"
      ]
     },
     "execution_count": 9,
     "metadata": {},
     "output_type": "execute_result"
    }
   ],
   "source": [
    "A_W = V_W / exp(I*w*t)\n",
    "pseudo_phi_W = im(A_W)/re(A_W)\n",
    "phi_W = atan(pseudo_phi_W)\n",
    "print('woofer phase = ')\n",
    "Eq(Symbol('\\phi_W'), phi_W)"
   ]
  },
  {
   "cell_type": "code",
   "execution_count": 11,
   "metadata": {},
   "outputs": [
    {
     "name": "stdout",
     "output_type": "stream",
     "text": [
      "phase match pulse = \n"
     ]
    },
    {
     "data": {
      "image/png": "[encoded data removed]",
      "text/latex": [
       "$\\displaystyle \\omega_{\\phi} = \\sqrt{\\frac{R_{L}}{C L R_{C}}}$"
      ],
      "text/plain": [
       "                  _________\n",
       "                 ╱   R_L   \n",
       "\\omega_\\phi =   ╱  ─────── \n",
       "              ╲╱   C⋅L⋅R_C "
      ]
     },
     "execution_count": 11,
     "metadata": {},
     "output_type": "execute_result"
    }
   ],
   "source": [
    "phase_match_w = (solve(Eq(pseudo_phi_T, -pseudo_phi_W), w))[1] # 2 solutions: the last is positive\n",
    "print('phase match pulse = ')\n",
    "Eq(Symbol('\\omega_\\phi'), phase_match_w)"
   ]
  },
  {
   "cell_type": "code",
   "execution_count": null,
   "metadata": {},
   "outputs": [],
   "source": []
  }
 ],
 "metadata": {
  "interpreter": {
   "hash": "084757ee3fb613776af677ba58175ba824f36781b45c8a4e7282c5646467b0f4"
  },
  "kernelspec": {
   "display_name": "Python 3.8.8 ('base')",
   "language": "python",
   "name": "python3"
  },
  "language_info": {
   "codemirror_mode": {
    "name": "ipython",
    "version": 3
   },
   "file_extension": ".py",
   "mimetype": "text/x-python",
   "name": "python",
   "nbconvert_exporter": "python",
   "pygments_lexer": "ipython3",
   "version": "3.9.7"
  },
  "orig_nbformat": 4
 },
 "nbformat": 4,
 "nbformat_minor": 2
}
