{
 "cells": [
  {
   "cell_type": "code",
   "execution_count": 177,
   "metadata": {},
   "outputs": [],
   "source": [
    "import lvm_read\n",
    "import numpy as np\n",
    "import pandas as pd\n",
    "import matplotlib.pyplot as plt\n",
    "import sympy as sp\n",
    "from sympy import I, Eq, Abs, N\n",
    "from numpy import pi\n",
    "from scipy.optimize import curve_fit\n"
   ]
  },
  {
   "cell_type": "code",
   "execution_count": 178,
   "metadata": {},
   "outputs": [],
   "source": [
    "def read_file(filename, columns):\n",
    "    file_lvm = lvm_read.read(filename, read_from_pickle=False)\n",
    "    return pd.DataFrame(file_lvm[0]['data'], columns=columns)\n"
   ]
  },
  {
   "cell_type": "code",
   "execution_count": 179,
   "metadata": {},
   "outputs": [],
   "source": [
    "noise_df = read_file('../data/Noise.lvm', ['time', 'V_S'])\n",
    "frequency_noise_df = read_file('../data/frequency-noise/V_S_sweep.lvm', ['frequency', 'amplitude', 'phase'])"
   ]
  },
  {
   "cell_type": "code",
   "execution_count": 180,
   "metadata": {},
   "outputs": [],
   "source": [
    "signals_df = read_file('../data/Signals.lvm', ['time', 'V_S', 'V_T', 'V_W'])\n",
    "\n",
    "filter_500_df = read_file('../data/Filter500.lvm', ['time', 'V_S', 'V_T', 'V_W'])\n",
    "filter_1905_df = read_file('../data/Filter1905.lvm', ['time', 'V_S', 'V_T', 'V_W'])\n",
    "filter_8000_df = read_file('../data/Filter8000.lvm', ['time', 'V_S', 'V_T', 'V_W'])\n"
   ]
  },
  {
   "cell_type": "code",
   "execution_count": 181,
   "metadata": {},
   "outputs": [],
   "source": [
    "V_S_sweep_df = read_file('../data/sweeps/V_S_sweep.lvm', ['frequency', 'amplitude', 'phase'])\n",
    "V_T_sweep_df = read_file('../data/sweeps/V_T_sweep.lvm', ['frequency', 'amplitude', 'phase'])\n",
    "V_W_sweep_df = read_file('../data/sweeps/V_W_sweep.lvm', ['frequency', 'amplitude', 'phase'])"
   ]
  },
  {
   "cell_type": "code",
   "execution_count": 182,
   "metadata": {},
   "outputs": [],
   "source": [
    "# TODO: Delete badly triggered signals from frequency noise data (?)\n",
    "# Trigger takes as the first point the first of the two points that caused the trigger to activate: so they are all below zero\n",
    "# frequency_noise_df = frequency_noise_df[frequency_noise_df['phase'] < 0]"
   ]
  },
  {
   "cell_type": "code",
   "execution_count": 183,
   "metadata": {},
   "outputs": [],
   "source": [
    "voltage_offset = noise_df['V_S'].mean() - 0.5    # TODO: rileggere il rumore a 0 volt, oppure chiedere se va bene sottrarre 5\n",
    "voltage_error = noise_df['V_S'].std()\n",
    "\n",
    "frequency_offset = frequency_noise_df['frequency'].mean() - 6000\n",
    "frequency_error = frequency_noise_df['frequency'].std()\n",
    "\n",
    "amplitude_offset = frequency_noise_df['amplitude'].mean() - 5\n",
    "amplitude_error = frequency_noise_df['amplitude'].std()\n",
    "\n",
    "phase_offset = frequency_noise_df['phase'].mean()\n",
    "phase_error = frequency_noise_df['phase'].std()\n"
   ]
  },
  {
   "cell_type": "markdown",
   "metadata": {},
   "source": [
    "signals_df[['V_S', 'V_T', 'V_W']] = signals_df[['V_S', 'V_T', 'V_W']]\n",
    "\n",
    "filter_500_df[['V_S', 'V_T', 'V_W']] = filter_500_df[['V_S', 'V_T', 'V_W']]\n",
    "filter_1905_df[['V_S', 'V_T', 'V_W']] = filter_1905_df[['V_S', 'V_T', 'V_W']]\n",
    "filter_8000_df[['V_S', 'V_T', 'V_W']] = filter_8000_df[['V_S', 'V_T', 'V_W']]\n",
    "\n",
    "V_S_sweep_df['frequency'] -= frequency_offset\n",
    "V_T_sweep_df['frequency'] -= frequency_offset\n",
    "V_W_sweep_df['frequency'] -= frequency_offset\n",
    "\n",
    "V_S_sweep_df['amplitude'] -= amplitude_offset\n",
    "V_T_sweep_df['amplitude'] -= amplitude_offset\n",
    "V_W_sweep_df['amplitude'] -= amplitude_offset\n",
    "\n",
    "V_S_sweep_df['phase'] -= phase_offset\n",
    "V_T_sweep_df['phase'] -= phase_offset\n",
    "V_W_sweep_df['phase'] -= phase_offset"
   ]
  },
  {
   "cell_type": "code",
   "execution_count": 184,
   "metadata": {},
   "outputs": [],
   "source": [
    "def plot_signals(df, title):\n",
    "    fig = plt.figure(figsize=(8,6))\n",
    "\n",
    "    axes = fig.add_axes([0,0,1,1])\n",
    "\n",
    "    axes.plot(df['time'], df['V_S'], label='Segnale', lw=0.8)\n",
    "    axes.plot(df['time'], df['V_T'], label='Tweeter', lw=0.8)\n",
    "    axes.plot(df['time'], df['V_W'], label='Woofer', lw=0.8)\n",
    "    axes.margins(x=0)\n",
    "    axes.set_xlabel('Tempo (s)')\n",
    "    axes.set_ylabel('Tensione (V)')\n",
    "    axes.set_title(title)\n",
    "\n",
    "    axes.legend()\n",
    "    axes.grid()\n"
   ]
  },
  {
   "cell_type": "markdown",
   "metadata": {},
   "source": [
    "plot_signals(signals_df, 'Segnale composto (500 Hz e 8 kHz)')"
   ]
  },
  {
   "cell_type": "markdown",
   "metadata": {},
   "source": [
    "plot_signals(filter_500_df, 'Bassa frequenza (500 Hz)')"
   ]
  },
  {
   "cell_type": "markdown",
   "metadata": {},
   "source": [
    "plot_signals(filter_1905_df, 'Match delle ampiezze (circa 1905 Hz)')"
   ]
  },
  {
   "cell_type": "markdown",
   "metadata": {},
   "source": [
    "plot_signals(filter_8000_df, 'Alta frequenza (8 kHz)')"
   ]
  },
  {
   "cell_type": "code",
   "execution_count": 185,
   "metadata": {},
   "outputs": [],
   "source": [
    "R_int, R_L, R_W, R_C, R_T = sp.symbols('R_{int} R_L R_W R_C R_T', real=True, positive=True)\n",
    "L, C, w, V_0, t = sp.symbols('L C \\omega V_0 t', real=True, positive=True)\n",
    "V = V_0*sp.exp(I*w*t)"
   ]
  },
  {
   "cell_type": "code",
   "execution_count": 186,
   "metadata": {},
   "outputs": [],
   "source": [
    "Z_T = R_C + R_T + 1/(C*w*I)\n",
    "Z_W = R_L + R_W + L*w*I\n",
    "Z_eq = 1/(1/Z_T+1/Z_W)\n",
    "Z_tot = Z_eq + R_int\n",
    "i = V / Z_tot\n",
    "V_eq = i * Z_eq\n",
    "i_T = V_eq / Z_T\n",
    "i_W = V_eq / Z_W\n",
    "\n",
    "V_T = sp.simplify(i_T * R_T)\n",
    "V_W = sp.simplify(i_W * R_W)\n",
    "\n",
    "A_T = Abs(V_T.subs({t: 0}))\n",
    "A_W = Abs(V_W.subs({t: 0}))\n",
    "\n",
    "phi_T = sp.arg(V_T.subs({t: 0}))\n",
    "phi_W = sp.arg(V_W.subs({t: 0}))\n"
   ]
  },
  {
   "cell_type": "code",
   "execution_count": 187,
   "metadata": {},
   "outputs": [],
   "source": [
    "numerical_values = {\n",
    "    R_int: 50, R_L: 203, R_W: 269.27, R_C: 0, R_T: 471.72,\n",
    "    L: 46.79 * 10**-3, C: 70 * 10**-9, V_0: 5\n",
    "}\n",
    "uncertainties = {\n",
    "    R_L: 0.19135, R_W: 0.22117, R_T: 0.312274, L: 0.4679 * 10**-3, C: 0.7 * 10**-9\n",
    "}"
   ]
  },
  {
   "cell_type": "code",
   "execution_count": 188,
   "metadata": {},
   "outputs": [],
   "source": [
    "def calculate_uncertainty(Y, f = w/(2*sp.pi)):\n",
    "    sum = 0\n",
    "    for x in uncertainties.keys():\n",
    "        fixed_values = numerical_values.copy()\n",
    "        x_value = fixed_values.pop(x)\n",
    "        sum += ((N(Y.subs(fixed_values).diff(x).subs({x: x_value, w: 2*sp.pi*f}))) * uncertainties[x]) ** 2\n",
    "    return sp.sqrt(sum)"
   ]
  },
  {
   "cell_type": "markdown",
   "metadata": {},
   "source": [
    "crossover_w = (sp.solve(Eq(Abs(Z_T), Abs(Z_W)), w))[1] # 2 solutions: the last is positive\n",
    "crossover_freq = crossover_w / (2*sp.pi)\n",
    "crossover_freq_val = N(crossover_freq.subs(numerical_values))\n",
    "crossover_freq_err_val = calculate_uncertainty(crossover_freq, crossover_freq_val)\n",
    "print('crossover_frequency (Hz) = ')\n",
    "print(crossover_freq_val, ' +/- ', crossover_freq_err_val)\n"
   ]
  },
  {
   "cell_type": "markdown",
   "metadata": {},
   "source": [
    "crossover_amplitude = Abs(A_T).subs({w: crossover_w})\n",
    "crossover_amplitude_val = N(crossover_amplitude.subs(numerical_values))\n",
    "crossover_amplitude_err_val = calculate_uncertainty(crossover_amplitude, crossover_amplitude_val)\n",
    "print('crossover amplitude (V) = ')\n",
    "print(crossover_amplitude_val, ' +/- ', crossover_amplitude_err_val)"
   ]
  },
  {
   "cell_type": "markdown",
   "metadata": {},
   "source": [
    "amplitude_match_w = (sp.solve(Eq(A_T, A_W), w))[1]\n",
    "amplitude_match_freq = amplitude_match_w / (2 * sp.pi)\n",
    "amplitude_match_freq_val = N(amplitude_match_freq.subs(numerical_values))\n",
    "amplitude_match_freq_err_val = calculate_uncertainty(amplitude_match_freq, amplitude_match_freq_val)\n",
    "print('amplitude match frequency (Hz) = ')\n",
    "print(amplitude_match_freq_val, ' +/- ', amplitude_match_freq_err_val)\n"
   ]
  },
  {
   "cell_type": "markdown",
   "metadata": {},
   "source": [
    "match_amplitude = Abs(A_T).subs({w: amplitude_match_w})\n",
    "match_amplitude_val = N(match_amplitude.subs(numerical_values))\n",
    "match_amplitude_err_val = calculate_uncertainty(match_amplitude, match_amplitude_val)\n",
    "print('match amplitude (V) = ')\n",
    "print(match_amplitude_val, ' +/- ', match_amplitude_err_val)"
   ]
  },
  {
   "cell_type": "markdown",
   "metadata": {},
   "source": [
    "# from ideal circuit\n",
    "phi_match_w_theory = sp.sqrt((R_L+R_W) / (C*L * (R_C+R_T)))\n",
    "phi_match_freq_theory = phi_match_w_theory / (2*pi)\n",
    "phi_match_freq_theory_val = N(phi_match_freq_theory.subs(numerical_values))\n",
    "phi_match_freq_theory_err_val = calculate_uncertainty(phi_match_freq_theory, phi_match_freq_theory_val)\n",
    "print('phase match frequency (Hz) = ')\n",
    "print(phi_match_freq_theory_val, ' +/- ', phi_match_freq_theory_err_val)"
   ]
  },
  {
   "cell_type": "code",
   "execution_count": null,
   "metadata": {},
   "outputs": [],
   "source": []
  },
  {
   "cell_type": "code",
   "execution_count": null,
   "metadata": {},
   "outputs": [],
   "source": []
  },
  {
   "cell_type": "code",
   "execution_count": null,
   "metadata": {},
   "outputs": [],
   "source": []
  },
  {
   "cell_type": "code",
   "execution_count": 189,
   "metadata": {},
   "outputs": [
    {
     "data": {
      "text/plain": [
       "\"\\nto_drop = []\\nfor i in range(1, V_S_sweep_df.shape[0] - 1):\\n    if (abs(V_S_sweep_df.loc[i, 'amplitude'] - (V_S_sweep_df.loc[i-1, 'amplitude'] + V_S_sweep_df.loc[i+1, 'amplitude']) / 2) > 0.05):\\n        to_drop.append(i)\\nfor i in to_drop:\\n    V_S_sweep_df.drop(i, inplace=True)\\n    V_T_sweep_df.drop(i, inplace=True)\\n    V_W_sweep_df.drop(i, inplace=True)\\n\""
      ]
     },
     "execution_count": 189,
     "metadata": {},
     "output_type": "execute_result"
    }
   ],
   "source": [
    "# Remove bad points in frequency analysis\n",
    "\"\"\"\n",
    "to_drop = []\n",
    "for i in range(1, V_S_sweep_df.shape[0] - 1):\n",
    "    if (abs(V_S_sweep_df.loc[i, 'amplitude'] - (V_S_sweep_df.loc[i-1, 'amplitude'] + V_S_sweep_df.loc[i+1, 'amplitude']) / 2) > 0.05):\n",
    "        to_drop.append(i)\n",
    "for i in to_drop:\n",
    "    V_S_sweep_df.drop(i, inplace=True)\n",
    "    V_T_sweep_df.drop(i, inplace=True)\n",
    "    V_W_sweep_df.drop(i, inplace=True)\n",
    "\"\"\""
   ]
  },
  {
   "cell_type": "markdown",
   "metadata": {},
   "source": [
    "fig = plt.figure(figsize=(8, 6))\n",
    "\n",
    "axes = fig.add_axes([0,0,1,1])\n",
    "\n",
    "axes.set_xlabel('Frequenza (Hz)')\n",
    "axes.set_ylabel('Ampiezza (V)')\n",
    "axes.set_title('Ampiezza in funzione della frequenza')\n",
    "\n",
    "axes.plot(V_S_sweep_df['frequency'], V_S_sweep_df['amplitude'], label='Segnale rilevato')\n",
    "axes.plot(V_T_sweep_df['frequency'], V_T_sweep_df['amplitude'], label='Tweeter rilevato')\n",
    "axes.plot(V_W_sweep_df['frequency'], V_W_sweep_df['amplitude'], label='Woofer rilevato')\n",
    "\n",
    "\n",
    "A_Ts = np.array([N(A_T.subs({w: 2*pi*V_T_sweep_df.loc[i,'frequency'], V_0: V_S_sweep_df.loc[i,'amplitude']}).subs(numerical_values)) for i in V_T_sweep_df.index.tolist()])\n",
    "axes.plot(V_T_sweep_df['frequency'], A_Ts, label='Previsione tweeter')\n",
    "\n",
    "A_Ws = np.array([N(A_W.subs({w: 2*pi*V_W_sweep_df.loc[i,'frequency'], V_0: V_S_sweep_df.loc[i,'amplitude']}).subs(numerical_values)) for i in V_W_sweep_df.index.tolist()])\n",
    "axes.plot(V_W_sweep_df['frequency'], A_Ws, label='Previsione woofer')\n",
    "\n",
    "\"\"\"\n",
    "A_Ts = np.array([N(A_T.subs({w: 2*pi*V_T_sweep_df.loc[i,'frequency']}).subs(numerical_values)) for i in V_T_sweep_df.index.tolist()])\n",
    "axes.plot(V_T_sweep_df['frequency'], A_Ts, label='Previsione tweeter')\n",
    "\n",
    "A_Ws = np.array([N(A_W.subs({w: 2*pi*V_W_sweep_df.loc[i,'frequency']}).subs(numerical_values)) for i in V_W_sweep_df.index.tolist()])\n",
    "axes.plot(V_W_sweep_df['frequency'], A_Ws, label='Previsione woofer')\n",
    "\"\"\"\n",
    "\n",
    "\"\"\"\n",
    "boosted_woofer = A_Ws / numerical_values[R_W] * (numerical_values[R_W] + numerical_values[R_L])\n",
    "axes.plot(V_W_sweep_df['frequency'], boosted_woofer, label='Woofer ideale')\n",
    "\"\"\"\n",
    "\n",
    "axes.legend()\n",
    "axes.grid()\n"
   ]
  },
  {
   "cell_type": "code",
   "execution_count": 190,
   "metadata": {},
   "outputs": [],
   "source": [
    "def substitute_except(expr, syms):\n",
    "    new_num_values = { key: numerical_values[key] for key in numerical_values if key not in syms }\n",
    "    new_expr = expr.subs(new_num_values)\n",
    "    return new_expr\n",
    "\n",
    "    \n",
    "def compute_chi_square(xdata, ydata, yerr, fit_func):\n",
    "    if yerr == 0: return np.Infinity\n",
    "    s = 0\n",
    "    for i in range(xdata.count()):\n",
    "        x = xdata[i]\n",
    "        y = ydata[i]\n",
    "        y_fit = fit_func(x)\n",
    "        s += (y - y_fit)**2 / yerr**2\n",
    "    return s\n",
    "\n",
    "\n",
    "def fit(expr, ind_var, params, x, y, yerr=0):\n",
    "    func_parameters = [ind_var] + params\n",
    "    initial_values = []\n",
    "    for param in params:\n",
    "        initial_values.append(numerical_values[param])\n",
    "    new_func = substitute_except(expr, func_parameters)\n",
    "    to_fit = sp.lambdify(func_parameters, new_func)\n",
    "    parameters, covariance = curve_fit(to_fit, x, y, p0=initial_values)\n",
    "    new_values = {}\n",
    "    for i in range(len(params)):\n",
    "        new_values[params[i]] = parameters[i]\n",
    "    fit_func = sp.lambdify(ind_var, new_func.subs(new_values))\n",
    "    chi_square = compute_chi_square(x, y, yerr, fit_func)\n",
    "    dof = x.count() - len(params)\n",
    "    print('parameters = ', parameters)\n",
    "    print('chi square / dof = ', chi_square, ' / ', dof)\n",
    "    return fit_func\n",
    "\n"
   ]
  },
  {
   "cell_type": "code",
   "execution_count": 206,
   "metadata": {},
   "outputs": [
    {
     "name": "stdout",
     "output_type": "stream",
     "text": [
      "parameters =  [7.34984746e-08 3.81625798e-01 2.22506568e+03 1.33860645e+02\n",
      " 4.60429966e+02]\n",
      "chi square / dof =  1926.7151795809377  /  44\n"
     ]
    }
   ],
   "source": [
    "A_T_fit = fit(A_T, w, [C, L, R_L, R_int, R_T], V_T_sweep_df['frequency'].apply(lambda f: 2*pi*f), V_T_sweep_df['amplitude'], yerr=amplitude_error)"
   ]
  },
  {
   "cell_type": "code",
   "execution_count": 205,
   "metadata": {},
   "outputs": [
    {
     "name": "stdout",
     "output_type": "stream",
     "text": [
      "parameters =  [6.86788330e-08 4.98219319e-02 1.65427384e+02 9.28976790e+01]\n",
      "chi square / dof =  63.78885553990095  /  45\n"
     ]
    }
   ],
   "source": [
    "A_W_fit = fit(A_W, w, [C, L, R_L, R_int], V_W_sweep_df['frequency'].apply(lambda f: 2*pi*f), V_W_sweep_df['amplitude'], yerr=amplitude_error)"
   ]
  },
  {
   "cell_type": "code",
   "execution_count": 171,
   "metadata": {},
   "outputs": [
    {
     "data": {
      "image/png": "[encoded data removed]",
      "text/plain": [
       "<Figure size 576x432 with 1 Axes>"
      ]
     },
     "metadata": {
      "needs_background": "light"
     },
     "output_type": "display_data"
    }
   ],
   "source": [
    "fig = plt.figure(figsize=(8, 6))\n",
    "\n",
    "axes = fig.add_axes([0,0,1,1])\n",
    "\n",
    "axes.set_xlabel('Frequenza (Hz)')\n",
    "axes.set_ylabel('Ampiezza (V)')\n",
    "axes.set_title('Ampiezza in funzione della frequenza')\n",
    "\n",
    "axes.plot(V_T_sweep_df['frequency'], V_T_sweep_df['amplitude'], label='Tweeter rilevato')\n",
    "axes.plot(V_W_sweep_df['frequency'], V_W_sweep_df['amplitude'], label='Woofer rilevato')\n",
    "\"\"\"\n",
    "A_Ts = V_T_sweep_df['frequency'].apply(lambda f: 2*np.pi*f).apply(A_T_fit)\n",
    "axes.plot(V_T_sweep_df['frequency'], A_Ts, label='Fit tweeter')\n",
    "\n",
    "A_Ws = V_W_sweep_df['frequency'].apply(lambda f: 2*np.pi*f).apply(A_W_fit)\n",
    "axes.plot(V_W_sweep_df['frequency'], A_Ws, label='Fit woofer')\n",
    "\"\"\"\n",
    "axes.legend()\n",
    "axes.grid()\n"
   ]
  },
  {
   "cell_type": "code",
   "execution_count": null,
   "metadata": {},
   "outputs": [],
   "source": []
  },
  {
   "cell_type": "markdown",
   "metadata": {},
   "source": [
    "# Zoom sulla frequenza di match delle ampiezze\n",
    "fig = plt.figure(figsize=(8, 6))\n",
    "\n",
    "axes = fig.add_axes([0,0,1,1])\n",
    "\n",
    "axes.set_xlabel('Frequenza (Hz)')\n",
    "axes.set_ylabel('Ampiezza (V)')\n",
    "axes.set_title('Match delle ampiezze')\n",
    "\n",
    "a = 1500\n",
    "b = 2200\n",
    "df_T = V_T_sweep_df[(a < V_T_sweep_df['frequency']) & (V_T_sweep_df['frequency'] < b)]\n",
    "df_W = V_W_sweep_df[(a < V_T_sweep_df['frequency']) & (V_T_sweep_df['frequency'] < b)]\n",
    "\n",
    "axes.plot(df_T['frequency'], df_T['amplitude'], label='Tweeter rilevato', color='orange')\n",
    "axes.plot(df_W['frequency'], df_W['amplitude'], label='Woofer rilevato', color='green')\n",
    "axes.errorbar(float(amplitude_match_freq_val), float(match_amplitude_val), xerr=3*float(amplitude_match_freq_err_val), yerr=3*float(match_amplitude_err_val), fmt='.k', lw=0.8, label='Match delle ampiezze previsto')\n",
    "\n",
    "axes.legend()\n",
    "axes.grid()\n"
   ]
  },
  {
   "cell_type": "markdown",
   "metadata": {},
   "source": [
    "fig = plt.figure(figsize=(8, 6))\n",
    "\n",
    "axes = fig.add_axes([0,0,1,1])\n",
    "\n",
    "axes.set_xlabel('Frequenza (Hz)')\n",
    "axes.set_ylabel('Fase (°)')\n",
    "axes.set_title('Fase in funzione della frequenza')\n",
    "\n",
    "axes.plot(V_S_sweep_df['frequency'], V_S_sweep_df['phase'], label='Segnale rilevato')\n",
    "axes.plot(V_T_sweep_df['frequency'], V_T_sweep_df['phase'], label='Tweeter rilevato')\n",
    "axes.plot(V_W_sweep_df['frequency'], V_W_sweep_df['phase'], label='Woofer rilevato')\n",
    "axes.plot(V_W_sweep_df['frequency'], V_T_sweep_df['phase'] + V_W_sweep_df['phase'], label='Somma delle fasi')\n",
    "\n",
    "fs = np.linspace(200, 8500, 200)\n",
    "\n",
    "phi_Ts = np.array([N(phi_T.subs(numerical_values).subs({w: 2*pi*x})) * 180 / pi for x in fs])\n",
    "axes.plot(fs, phi_Ts, label='Previsione tweeter')\n",
    "\n",
    "phi_Ws = np.array([N(phi_W.subs(numerical_values).subs({w: 2*pi*x})) * 180 / pi for x in fs])\n",
    "axes.plot(fs, phi_Ws, label='Previsione woofer')\n",
    "\n",
    "axes.plot(fs, phi_Ts + phi_Ws, label='Somma previsioni')\n",
    "\n",
    "axes.legend()\n",
    "axes.grid()"
   ]
  },
  {
   "cell_type": "code",
   "execution_count": null,
   "metadata": {},
   "outputs": [],
   "source": []
  },
  {
   "cell_type": "code",
   "execution_count": null,
   "metadata": {},
   "outputs": [],
   "source": []
  }
 ],
 "metadata": {
  "interpreter": {
   "hash": "084757ee3fb613776af677ba58175ba824f36781b45c8a4e7282c5646467b0f4"
  },
  "kernelspec": {
   "display_name": "Python 3.8.8 ('base')",
   "language": "python",
   "name": "python3"
  },
  "language_info": {
   "codemirror_mode": {
    "name": "ipython",
    "version": 3
   },
   "file_extension": ".py",
   "mimetype": "text/x-python",
   "name": "python",
   "nbconvert_exporter": "python",
   "pygments_lexer": "ipython3",
   "version": "3.8.8"
  },
  "orig_nbformat": 4
 },
 "nbformat": 4,
 "nbformat_minor": 2
}
