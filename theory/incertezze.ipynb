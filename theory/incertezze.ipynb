{
 "cells": [
  {
   "cell_type": "code",
   "execution_count": 1,
   "metadata": {},
   "outputs": [],
   "source": [
    "from sympy import *"
   ]
  },
  {
   "cell_type": "code",
   "execution_count": 2,
   "metadata": {},
   "outputs": [],
   "source": [
    "R_int, R_L, R_W, R_C, R_T = symbols('R_{int} R_L R_W R_C R_T', real=True)\n",
    "L, C, w, V_0, t = symbols('L C \\omega V_0 t', real=True)\n",
    "\n",
    "dR_L, dR_W, dR_C, dR_T = symbols('dR_L dR_W dR_C dR_T', real=True)\n",
    "dL, dC, dw, dV_0 = symbols('dL dC d\\omega dV_0', real=True)\n",
    "\n",
    "V = V_0*exp(I*w*t)"
   ]
  },
  {
   "cell_type": "code",
   "execution_count": 3,
   "metadata": {},
   "outputs": [],
   "source": [
    "Z_T = R_C + R_T + 1/(C*w*I)\n",
    "Z_W = R_L + R_W + L*w*I\n",
    "Z_eq = 1/(1/Z_T+1/Z_W)\n",
    "Z_tot = Z_eq + R_int\n",
    "i = V / Z_tot\n",
    "V_eq = i * Z_eq\n",
    "i_T = V_eq / Z_T\n",
    "i_W = V_eq / Z_W\n",
    "\n",
    "V_T = simplify(i_T * R_T)\n",
    "V_W = simplify(i_W * R_W)"
   ]
  },
  {
   "cell_type": "code",
   "execution_count": null,
   "metadata": {},
   "outputs": [],
   "source": [
    "crossover_w = (solve(Eq(Abs(Z_T), Abs(Z_W)), w))[3]\n",
    "dcrossover_w = "
   ]
  }
 ],
 "metadata": {
  "interpreter": {
   "hash": "084757ee3fb613776af677ba58175ba824f36781b45c8a4e7282c5646467b0f4"
  },
  "kernelspec": {
   "display_name": "Python 3.8.8 ('base')",
   "language": "python",
   "name": "python3"
  },
  "language_info": {
   "codemirror_mode": {
    "name": "ipython",
    "version": 3
   },
   "file_extension": ".py",
   "mimetype": "text/x-python",
   "name": "python",
   "nbconvert_exporter": "python",
   "pygments_lexer": "ipython3",
   "version": "3.8.8"
  },
  "orig_nbformat": 4
 },
 "nbformat": 4,
 "nbformat_minor": 2
}
