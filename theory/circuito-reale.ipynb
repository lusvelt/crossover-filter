{
 "cells": [
  {
   "cell_type": "code",
   "execution_count": 22,
   "metadata": {},
   "outputs": [],
   "source": [
    "from sympy import *\n",
    "init_printing()"
   ]
  },
  {
   "cell_type": "code",
   "execution_count": 23,
   "metadata": {},
   "outputs": [],
   "source": [
    "R_int, R_L, R_W, R_C, R_T = symbols('R_{int} R_L R_W R_C R_T', real=True)\n",
    "L, C, w, V_0, t = symbols('L C \\omega V_0 t', real=True)\n",
    "V = V_0*exp(I*w*t)"
   ]
  },
  {
   "cell_type": "code",
   "execution_count": 24,
   "metadata": {},
   "outputs": [],
   "source": [
    "Z_T = R_C + R_T + 1/(C*w*I)\n",
    "Z_W = R_L + R_W + L*w*I\n",
    "Z_eq = 1/(1/Z_T+1/Z_W)\n",
    "Z_tot = Z_eq + R_int\n",
    "i = V / Z_tot\n",
    "V_eq = i * Z_eq\n",
    "i_T = V_eq / Z_T\n",
    "i_W = V_eq / Z_W\n",
    "\n",
    "V_T = simplify(i_T * R_T)\n",
    "V_W = simplify(i_W * R_W)"
   ]
  },
  {
   "cell_type": "code",
   "execution_count": 25,
   "metadata": {},
   "outputs": [],
   "source": [
    "crossover_w = (solve(Eq(Abs(Z_T), Abs(Z_W)), w))[3] # 4 solutions: the last is positive and real\n",
    "crossover_freq = crossover_w / (2*pi)"
   ]
  },
  {
   "cell_type": "code",
   "execution_count": 26,
   "metadata": {},
   "outputs": [
    {
     "name": "stdout",
     "output_type": "stream",
     "text": [
      "crossover_frequency (Hz) = \n"
     ]
    },
    {
     "data": {
      "image/png": "[encoded data removed]",
      "text/latex": [
       "$\\displaystyle 2861.08888438996$"
      ],
      "text/plain": [
       "2861.08888438996"
      ]
     },
     "execution_count": 26,
     "metadata": {},
     "output_type": "execute_result"
    }
   ],
   "source": [
    "\n",
    "\"\"\"numerical_values = {\n",
    "    R_int: 50, R_L: 203, R_W: 179.79, R_C: 0, R_T: 471.72,\n",
    "    L: 46.79 * 10**-3, C: 70 * 10**-9, V_0: 5\n",
    "}\"\"\"\n",
    "numerical_values = {\n",
    "    R_int: 50, R_L: 203, R_W: 179.79, R_C: 0, R_T: 471.72,\n",
    "    L: 46.79 * 10**-3, C: 70 * 10**-9, V_0: 5\n",
    "}\n",
    "print('crossover_frequency (Hz) = ')\n",
    "N(crossover_freq.subs(numerical_values))\n"
   ]
  },
  {
   "cell_type": "code",
   "execution_count": 27,
   "metadata": {},
   "outputs": [],
   "source": [
    "A_T = Abs(V_T)\n",
    "A_W = Abs(V_W)"
   ]
  },
  {
   "cell_type": "code",
   "execution_count": 28,
   "metadata": {},
   "outputs": [
    {
     "name": "stdout",
     "output_type": "stream",
     "text": [
      "amplitude match frequency (Hz) = \n"
     ]
    },
    {
     "data": {
      "image/png": "[encoded data removed]",
      "text/latex": [
       "$\\displaystyle 1536.2538712116$"
      ],
      "text/plain": [
       "1536.25387121160"
      ]
     },
     "execution_count": 28,
     "metadata": {},
     "output_type": "execute_result"
    }
   ],
   "source": [
    "amplitude_match_w = (solve(Eq(A_T, A_W).subs(numerical_values), w))[1] # 2 solutions: the last is positive\n",
    "amplitude_match_freq = amplitude_match_w / (2 * pi)\n",
    "print('amplitude match frequency (Hz) = ')\n",
    "N(amplitude_match_freq)"
   ]
  },
  {
   "cell_type": "code",
   "execution_count": 29,
   "metadata": {},
   "outputs": [
    {
     "name": "stdout",
     "output_type": "stream",
     "text": [
      "phase match frequency (Hz) = \n"
     ]
    },
    {
     "data": {
      "image/png": "[encoded data removed]",
      "text/latex": [
       "$\\displaystyle 2505.14423686487$"
      ],
      "text/plain": [
       "2505.14423686487"
      ]
     },
     "execution_count": 29,
     "metadata": {},
     "output_type": "execute_result"
    }
   ],
   "source": [
    "# from ideal circuit\n",
    "phi_match_w_theory = sqrt((R_L+R_W) / (C*L * (R_C+R_T)))\n",
    "phi_match_freq_theory = phi_match_w_theory / (2*pi)\n",
    "print('phase match frequency (Hz) = ')\n",
    "N(phi_match_freq_theory.subs(numerical_values))"
   ]
  },
  {
   "cell_type": "code",
   "execution_count": 30,
   "metadata": {},
   "outputs": [
    {
     "name": "stdout",
     "output_type": "stream",
     "text": [
      "phases sum at crossover (deg) = \n"
     ]
    },
    {
     "data": {
      "image/png": "[encoded data removed]",
      "text/latex": [
       "$\\displaystyle -5.92677846903704$"
      ],
      "text/plain": [
       "-5.92677846903704"
      ]
     },
     "execution_count": 30,
     "metadata": {},
     "output_type": "execute_result"
    }
   ],
   "source": [
    "phi_T = arg(V_T.subs({t: 0})).subs(numerical_values)\n",
    "phi_W = arg(V_W.subs({t: 0})).subs(numerical_values)\n",
    "\n",
    "print('phases sum at crossover (deg) = ')\n",
    "N(((phi_T + phi_W) * 180 / pi).subs({w: crossover_w.subs(numerical_values)}))"
   ]
  }
 ],
 "metadata": {
  "interpreter": {
   "hash": "084757ee3fb613776af677ba58175ba824f36781b45c8a4e7282c5646467b0f4"
  },
  "kernelspec": {
   "display_name": "Python 3.8.8 ('base')",
   "language": "python",
   "name": "python3"
  },
  "language_info": {
   "codemirror_mode": {
    "name": "ipython",
    "version": 3
   },
   "file_extension": ".py",
   "mimetype": "text/x-python",
   "name": "python",
   "nbconvert_exporter": "python",
   "pygments_lexer": "ipython3",
   "version": "3.8.8"
  },
  "orig_nbformat": 4
 },
 "nbformat": 4,
 "nbformat_minor": 2
}
